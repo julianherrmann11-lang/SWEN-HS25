{
 "cells": [
  {
   "cell_type": "markdown",
   "id": "9ba6c0a0",
   "metadata": {},
   "source": [
    "Funktion für die Baumkrone definieren"
   ]
  },
  {
   "cell_type": "code",
   "execution_count": 12,
   "id": "cf12d7b9",
   "metadata": {},
   "outputs": [],
   "source": [
    "def baumkrone(hoehe: int) -> None:\n",
    "    for x in range(hoehe): \n",
    "        zeile = \" \" * (hoehe-x-1) + (\"*\"*(2*x+1))\n",
    "        print(zeile)"
   ]
  },
  {
   "cell_type": "markdown",
   "id": "092deb55",
   "metadata": {},
   "source": [
    "Funktion für Baumstamm definieren"
   ]
  },
  {
   "cell_type": "code",
   "execution_count": 13,
   "id": "3db851af",
   "metadata": {},
   "outputs": [],
   "source": [
    "def baumstamm(stammhoehe: int, kronenhoehe:int) -> None:\n",
    "    for _ in range(stammhoehe): \n",
    "        zeile = \" \"*(kronenhoehe-1) + \"*\"\n",
    "        print(zeile)"
   ]
  },
  {
   "cell_type": "markdown",
   "id": "e956328f",
   "metadata": {},
   "source": [
    "Baum zeichnen"
   ]
  },
  {
   "cell_type": "code",
   "execution_count": 63,
   "id": "ef5e97f1",
   "metadata": {},
   "outputs": [
    {
     "name": "stdout",
     "output_type": "stream",
     "text": [
      "              *\n",
      "             ***\n",
      "            *****\n",
      "           *******\n",
      "          *********\n",
      "         ***********\n",
      "        *************\n",
      "       ***************\n",
      "      *****************\n",
      "     *******************\n",
      "    *********************\n",
      "   ***********************\n",
      "  *************************\n",
      " ***************************\n",
      "*****************************\n",
      "              *\n",
      "              *\n",
      "              *\n",
      "              *\n",
      "              *\n"
     ]
    }
   ],
   "source": [
    "kronenhoehe = int(input(\"wie hoch soll die Baumkrone sein?\"))\n",
    "baumkrone(kronenhoehe)\n",
    "baumstamm(int(input(\"Wie hoch soll der Baumstamm sein?\")), kronenhoehe)\n"
   ]
  },
  {
   "cell_type": "markdown",
   "id": "7be0f4eb",
   "metadata": {},
   "source": [
    "Draft für Kugeln"
   ]
  },
  {
   "cell_type": "code",
   "execution_count": 22,
   "id": "68a59726",
   "metadata": {},
   "outputs": [],
   "source": [
    "import random\n",
    "\n",
    "def baumkrone_kugeln (kronenhoehe: int) -> None:\n",
    "    breite = (2 * kronenhoehe) - 1\n",
    "    for i in range(kronenhoehe):\n",
    "            leerzeichen = kronenhoehe - i -1                                                # Anzahl führende Leerzeichen in Zeile i\n",
    "            sterne = 2*i + 1                                                                # Anzahl Sterne in Zeile i\n",
    "\n",
    "            zeile = [\" \"] * breite                                                          # Liste für jede Zeile mit Leerzeichen befüllt\n",
    "            for s in range (leerzeichen, leerzeichen+sterne):\n",
    "                zeile[s]=\"*\"                                                                # Leerzeichen durch Sternenanzahl dieser Zeile ersetzt\n",
    "\n",
    "            maxkugel = max(0, i)                                                        # Maximal zulässige Anzahl Kugeln pro Zeile; Aber mindestens 0\n",
    "            minkugel = max(0, i - 5)                                                      \n",
    "            obere = min(maxkugel, sterne)\n",
    "            kugel = random.randrange(minkugel, obere+1)                                     # Zufällige Anzahl Kugeln; Alternativ randint (beide Grenzen inklusiv)\n",
    "\n",
    "            for s in random.sample(range(leerzeichen, leerzeichen + sterne), kugel):\n",
    "                zeile[s]=\"0\"                                                                # Zufällige Sterne werden durch Kugeln ersetzt\n",
    "            \n",
    "            print(\"\".join(zeile))\n",
    "        \n",
    "    "
   ]
  },
  {
   "cell_type": "markdown",
   "id": "de2f1e6f",
   "metadata": {},
   "source": [
    "Weihnachtsbaum mit Kugeln zeichnen"
   ]
  },
  {
   "cell_type": "code",
   "execution_count": 23,
   "id": "9e13344b",
   "metadata": {},
   "outputs": [
    {
     "name": "stdout",
     "output_type": "stream",
     "text": [
      "              *              \n",
      "             ***             \n",
      "            **0**            \n",
      "           ****00*           \n",
      "          *0*******          \n",
      "         0********0*         \n",
      "        0****000***00        \n",
      "       ********0**0***       \n",
      "      0**0*00*000**0***      \n",
      "     0*****0**0***0**0*0     \n",
      "    *0000***0****0000***0    \n",
      "   *******000**00*****00**   \n",
      "  *0**0*0**0******0**0***0*  \n",
      " 00******000**000***000***0* \n",
      "00**0**000**00**0**0**0****0*\n",
      "              *\n",
      "              *\n",
      "              *\n"
     ]
    }
   ],
   "source": [
    "kronenhoehe = int(input(\"wie hoch soll die Baumkrone sein?\"))\n",
    "baumkrone_kugeln(kronenhoehe)\n",
    "baumstamm(int(input(\"Wie hoch soll der Baumstamm sein?\")), kronenhoehe)"
   ]
  }
 ],
 "metadata": {
  "kernelspec": {
   "display_name": "Python 3",
   "language": "python",
   "name": "python3"
  },
  "language_info": {
   "codemirror_mode": {
    "name": "ipython",
    "version": 3
   },
   "file_extension": ".py",
   "mimetype": "text/x-python",
   "name": "python",
   "nbconvert_exporter": "python",
   "pygments_lexer": "ipython3",
   "version": "3.13.7"
  }
 },
 "nbformat": 4,
 "nbformat_minor": 5
}
